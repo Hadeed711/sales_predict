{
 "cells": [
  {
   "cell_type": "markdown",
   "id": "9e65debb-135c-45e3-8a61-64b874a75501",
   "metadata": {},
   "source": [
    "# Sales Prediction\n",
    "Brief notebook to explore, prepare, and model sales using supervised learning.\n"
   ]
  },
  {
   "cell_type": "code",
   "execution_count": 16,
   "id": "8e868799-9101-4a53-836c-819531328ebc",
   "metadata": {},
   "outputs": [],
   "source": [
    "# Cell 2: imports and filepath\n",
    "import pandas as pd\n",
    "import numpy as np\n",
    "\n",
    "from sklearn.model_selection import train_test_split, cross_val_score, GridSearchCV\n",
    "from sklearn.pipeline import Pipeline\n",
    "from sklearn.compose import ColumnTransformer\n",
    "from sklearn.preprocessing import OneHotEncoder, StandardScaler\n",
    "from sklearn.impute import SimpleImputer\n",
    "from sklearn.ensemble import RandomForestRegressor, GradientBoostingRegressor\n",
    "from sklearn.linear_model import LinearRegression\n",
    "from sklearn.metrics import mean_squared_error, mean_absolute_error, r2_score\n",
    "\n",
    "import matplotlib.pyplot as plt\n",
    "\n"
   ]
  },
  {
   "cell_type": "markdown",
   "id": "03d0cfa3-0177-451c-84aa-def5e253fc07",
   "metadata": {},
   "source": [
    "## Load data\n",
    "Load the CSV and inspect basic shape and columns."
   ]
  },
  {
   "cell_type": "code",
   "execution_count": 17,
   "id": "d786f705-09c3-4f35-a7bd-42b09dd81654",
   "metadata": {},
   "outputs": [
    {
     "name": "stdout",
     "output_type": "stream",
     "text": [
      "Shape after dropping first column: (200, 4)\n"
     ]
    },
    {
     "data": {
      "text/html": [
       "<div>\n",
       "<style scoped>\n",
       "    .dataframe tbody tr th:only-of-type {\n",
       "        vertical-align: middle;\n",
       "    }\n",
       "\n",
       "    .dataframe tbody tr th {\n",
       "        vertical-align: top;\n",
       "    }\n",
       "\n",
       "    .dataframe thead th {\n",
       "        text-align: right;\n",
       "    }\n",
       "</style>\n",
       "<table border=\"1\" class=\"dataframe\">\n",
       "  <thead>\n",
       "    <tr style=\"text-align: right;\">\n",
       "      <th></th>\n",
       "      <th>TV</th>\n",
       "      <th>Radio</th>\n",
       "      <th>Newspaper</th>\n",
       "      <th>Sales</th>\n",
       "    </tr>\n",
       "  </thead>\n",
       "  <tbody>\n",
       "    <tr>\n",
       "      <th>1</th>\n",
       "      <td>230.1</td>\n",
       "      <td>37.8</td>\n",
       "      <td>69.2</td>\n",
       "      <td>22.1</td>\n",
       "    </tr>\n",
       "    <tr>\n",
       "      <th>2</th>\n",
       "      <td>44.5</td>\n",
       "      <td>39.3</td>\n",
       "      <td>45.1</td>\n",
       "      <td>10.4</td>\n",
       "    </tr>\n",
       "    <tr>\n",
       "      <th>3</th>\n",
       "      <td>17.2</td>\n",
       "      <td>45.9</td>\n",
       "      <td>69.3</td>\n",
       "      <td>9.3</td>\n",
       "    </tr>\n",
       "    <tr>\n",
       "      <th>4</th>\n",
       "      <td>151.5</td>\n",
       "      <td>41.3</td>\n",
       "      <td>58.5</td>\n",
       "      <td>18.5</td>\n",
       "    </tr>\n",
       "    <tr>\n",
       "      <th>5</th>\n",
       "      <td>180.8</td>\n",
       "      <td>10.8</td>\n",
       "      <td>58.4</td>\n",
       "      <td>12.9</td>\n",
       "    </tr>\n",
       "  </tbody>\n",
       "</table>\n",
       "</div>"
      ],
      "text/plain": [
       "      TV  Radio  Newspaper  Sales\n",
       "1  230.1   37.8       69.2   22.1\n",
       "2   44.5   39.3       45.1   10.4\n",
       "3   17.2   45.9       69.3    9.3\n",
       "4  151.5   41.3       58.5   18.5\n",
       "5  180.8   10.8       58.4   12.9"
      ]
     },
     "metadata": {},
     "output_type": "display_data"
    },
    {
     "data": {
      "text/html": [
       "<div>\n",
       "<style scoped>\n",
       "    .dataframe tbody tr th:only-of-type {\n",
       "        vertical-align: middle;\n",
       "    }\n",
       "\n",
       "    .dataframe tbody tr th {\n",
       "        vertical-align: top;\n",
       "    }\n",
       "\n",
       "    .dataframe thead th {\n",
       "        text-align: right;\n",
       "    }\n",
       "</style>\n",
       "<table border=\"1\" class=\"dataframe\">\n",
       "  <thead>\n",
       "    <tr style=\"text-align: right;\">\n",
       "      <th></th>\n",
       "      <th>count</th>\n",
       "      <th>mean</th>\n",
       "      <th>std</th>\n",
       "      <th>min</th>\n",
       "      <th>25%</th>\n",
       "      <th>50%</th>\n",
       "      <th>75%</th>\n",
       "      <th>max</th>\n",
       "    </tr>\n",
       "  </thead>\n",
       "  <tbody>\n",
       "    <tr>\n",
       "      <th>TV</th>\n",
       "      <td>200.0</td>\n",
       "      <td>147.0425</td>\n",
       "      <td>85.854236</td>\n",
       "      <td>0.7</td>\n",
       "      <td>74.375</td>\n",
       "      <td>149.75</td>\n",
       "      <td>218.825</td>\n",
       "      <td>296.4</td>\n",
       "    </tr>\n",
       "    <tr>\n",
       "      <th>Radio</th>\n",
       "      <td>200.0</td>\n",
       "      <td>23.2640</td>\n",
       "      <td>14.846809</td>\n",
       "      <td>0.0</td>\n",
       "      <td>9.975</td>\n",
       "      <td>22.90</td>\n",
       "      <td>36.525</td>\n",
       "      <td>49.6</td>\n",
       "    </tr>\n",
       "    <tr>\n",
       "      <th>Newspaper</th>\n",
       "      <td>200.0</td>\n",
       "      <td>30.5540</td>\n",
       "      <td>21.778621</td>\n",
       "      <td>0.3</td>\n",
       "      <td>12.750</td>\n",
       "      <td>25.75</td>\n",
       "      <td>45.100</td>\n",
       "      <td>114.0</td>\n",
       "    </tr>\n",
       "    <tr>\n",
       "      <th>Sales</th>\n",
       "      <td>200.0</td>\n",
       "      <td>14.0225</td>\n",
       "      <td>5.217457</td>\n",
       "      <td>1.6</td>\n",
       "      <td>10.375</td>\n",
       "      <td>12.90</td>\n",
       "      <td>17.400</td>\n",
       "      <td>27.0</td>\n",
       "    </tr>\n",
       "  </tbody>\n",
       "</table>\n",
       "</div>"
      ],
      "text/plain": [
       "           count      mean        std  min     25%     50%      75%    max\n",
       "TV         200.0  147.0425  85.854236  0.7  74.375  149.75  218.825  296.4\n",
       "Radio      200.0   23.2640  14.846809  0.0   9.975   22.90   36.525   49.6\n",
       "Newspaper  200.0   30.5540  21.778621  0.3  12.750   25.75   45.100  114.0\n",
       "Sales      200.0   14.0225   5.217457  1.6  10.375   12.90   17.400   27.0"
      ]
     },
     "metadata": {},
     "output_type": "display_data"
    }
   ],
   "source": [
    "# Cell 4: load and peek\n",
    "\n",
    "DATA_PATH = \"Advertising.csv\"\n",
    "df = pd.read_csv(DATA_PATH, index_col=0)\n",
    "\n",
    "print(\"Shape after dropping first column:\", df.shape)\n",
    "display(df.head())\n",
    "display(df.describe(include='all').T)\n"
   ]
  },
  {
   "cell_type": "markdown",
   "id": "25d8b856-9a96-4da1-8105-a3566a4c1bfb",
   "metadata": {},
   "source": [
    "## Quick EDA\n",
    "Check missing values, dtypes, and target distribution.\n"
   ]
  },
  {
   "cell_type": "code",
   "execution_count": 18,
   "id": "b458f348-2cc5-4b08-917e-6b94845da1b5",
   "metadata": {},
   "outputs": [
    {
     "name": "stdout",
     "output_type": "stream",
     "text": [
      "Dtypes:\n",
      "TV           float64\n",
      "Radio        float64\n",
      "Newspaper    float64\n",
      "Sales        float64\n",
      "dtype: object\n",
      "\n",
      "Missing values:\n",
      "TV           0\n",
      "Radio        0\n",
      "Newspaper    0\n",
      "Sales        0\n",
      "dtype: int64\n",
      "\n",
      "Target detected: 'Sales'\n"
     ]
    },
    {
     "data": {
      "text/plain": [
       "count    200.000000\n",
       "mean      14.022500\n",
       "std        5.217457\n",
       "min        1.600000\n",
       "25%       10.375000\n",
       "50%       12.900000\n",
       "75%       17.400000\n",
       "max       27.000000\n",
       "Name: Sales, dtype: float64"
      ]
     },
     "metadata": {},
     "output_type": "display_data"
    },
    {
     "data": {
      "image/png": "[encoded data removed]",
      "text/plain": [
       "<Figure size 600x400 with 1 Axes>"
      ]
     },
     "metadata": {},
     "output_type": "display_data"
    }
   ],
   "source": [
    "# Cell 6: EDA\n",
    "print(\"Dtypes:\")\n",
    "print(df.dtypes)\n",
    "print(\"\\nMissing values:\")\n",
    "print(df.isnull().sum())\n",
    "\n",
    "# If there is a numeric target column named 'Sales' (common), show distribution.\n",
    "target_candidates = [\"Sales\", \"sale\", \"Amount\", \"Revenue\", \"sales\"]\n",
    "target = None\n",
    "for t in target_candidates:\n",
    "    if t in df.columns:\n",
    "        target = t\n",
    "        break\n",
    "\n",
    "if target:\n",
    "    print(f\"\\nTarget detected: '{target}'\")\n",
    "    display(df[target].describe())\n",
    "    plt.figure(figsize=(6,4))\n",
    "    plt.hist(df[target].dropna(), bins=40)\n",
    "    plt.title(f\"Distribution of {target}\")\n",
    "    plt.xlabel(target)\n",
    "    plt.ylabel(\"count\")\n",
    "    plt.show()\n",
    "else:\n",
    "    print(\"\\nNo common target column detected. Please set the target variable name and rerun.\")\n"
   ]
  },
  {
   "cell_type": "markdown",
   "id": "0d99bf15-b885-45cb-b694-33da4a786335",
   "metadata": {},
   "source": [
    "## Data cleaning\n",
    "Handle missing data and basic type fixes. Adjust as needed for your dataset.\n"
   ]
  },
  {
   "cell_type": "code",
   "execution_count": 19,
   "id": "ce952034-cc28-4548-ac67-11bf7246cdd9",
   "metadata": {},
   "outputs": [
    {
     "name": "stdout",
     "output_type": "stream",
     "text": [
      "After basic cleaning:\n",
      "<class 'pandas.core.frame.DataFrame'>\n",
      "Index: 200 entries, 1 to 200\n",
      "Data columns (total 4 columns):\n",
      " #   Column     Non-Null Count  Dtype  \n",
      "---  ------     --------------  -----  \n",
      " 0   TV         200 non-null    float64\n",
      " 1   Radio      200 non-null    float64\n",
      " 2   Newspaper  200 non-null    float64\n",
      " 3   Sales      200 non-null    float64\n",
      "dtypes: float64(4)\n",
      "memory usage: 7.8 KB\n",
      "None\n"
     ]
    }
   ],
   "source": [
    "# Cell 8: basic cleaning (non-destructive)\n",
    "df_clean = df.copy()\n",
    "\n",
    "# Example fixes (comment/uncomment per dataset):\n",
    "# - strip column names\n",
    "df_clean.columns = df_clean.columns.str.strip()\n",
    "\n",
    "# - convert date-like columns if any (attempt)\n",
    "for col in df_clean.select_dtypes(include=['object']).columns:\n",
    "    try:\n",
    "        dt = pd.to_datetime(df_clean[col], errors='coerce')\n",
    "        # if many values convert, keep new column\n",
    "        if dt.notna().sum() > len(df_clean) * 0.3:\n",
    "            df_clean[col + \"_dt\"] = dt\n",
    "    except Exception:\n",
    "        pass\n",
    "\n",
    "# Show updated summary\n",
    "print(\"After basic cleaning:\")\n",
    "print(df_clean.info())\n"
   ]
  },
  {
   "cell_type": "markdown",
   "id": "661d9c41-52d1-4d4a-977f-b7f40b48494b",
   "metadata": {},
   "source": [
    "## Feature selection & target\n",
    "Choose the target and candidate features. Update `TARGET` if different.\n"
   ]
  },
  {
   "cell_type": "code",
   "execution_count": 21,
   "id": "d956a016-1712-4597-a4bb-a6c5adfdda53",
   "metadata": {},
   "outputs": [
    {
     "name": "stdout",
     "output_type": "stream",
     "text": [
      "Numeric features: 3\n",
      "Categorical features: 0\n"
     ]
    }
   ],
   "source": [
    "# Cell 10: choose target and features (update TARGET if needed)\n",
    "TARGET = target  # from earlier detector; if None set manually, e.g. TARGET = \"Sales\"\n",
    "if TARGET is None:\n",
    "    raise ValueError(\"No target detected. Set TARGET = 'YourTargetColumn' and rerun this cell.\")\n",
    "\n",
    "# Auto-select numeric and categorical features, excluding target\n",
    "X = df_clean.drop(columns=[TARGET])\n",
    "y = df_clean[TARGET]\n",
    "\n",
    "num_cols = X.select_dtypes(include=[np.number]).columns.tolist()\n",
    "cat_cols = X.select_dtypes(include=['object', 'category', 'bool']).columns.tolist()\n",
    "\n",
    "print(\"Numeric features:\", len(num_cols))\n",
    "print(\"Categorical features:\", len(cat_cols))\n"
   ]
  },
  {
   "cell_type": "markdown",
   "id": "037232c0-6e41-468a-854a-bcb522d41488",
   "metadata": {},
   "source": [
    "## Preprocessing pipeline\n",
    "Create a pipeline that imputes and scales numeric features and encodes categorical features.\n"
   ]
  },
  {
   "cell_type": "code",
   "execution_count": 28,
   "id": "3c94e5fc-3574-4e52-8d4e-2fa9b4e87aeb",
   "metadata": {},
   "outputs": [],
   "source": [
    "# Cell 12: preprocessing pipeline\n",
    "numeric_transformer = Pipeline(steps=[\n",
    "    (\"imputer\", SimpleImputer(strategy=\"median\")),\n",
    "    (\"scaler\", StandardScaler())\n",
    "])\n",
    "\n",
    "categorical_transformer = Pipeline(steps=[\n",
    "    (\"imputer\", SimpleImputer(strategy=\"constant\", fill_value=\"missing\")),\n",
    "    (\"onehot\", OneHotEncoder(handle_unknown=\"ignore\", sparse_output=False))  # updated\n",
    "])\n",
    "\n",
    "preprocessor = ColumnTransformer(transformers=[\n",
    "    (\"num\", numeric_transformer, num_cols),\n",
    "    (\"cat\", categorical_transformer, cat_cols)\n",
    "], remainder='drop')\n"
   ]
  },
  {
   "cell_type": "markdown",
   "id": "d067e1eb-9858-4fb5-bb09-7284fdfd0fde",
   "metadata": {},
   "source": [
    "## Train/test split and baseline\n",
    "Split the data and fit a simple baseline model (Linear Regression).\n"
   ]
  },
  {
   "cell_type": "code",
   "execution_count": 29,
   "id": "a7f71596-e42a-44a3-9e93-ae6cd50ec6c1",
   "metadata": {},
   "outputs": [
    {
     "name": "stdout",
     "output_type": "stream",
     "text": [
      "Linear Regression performance:\n",
      "{'RMSE': np.float64(1.781599661533451), 'MAE': 1.4607567168117601, 'R2': 0.8994380241009119}\n"
     ]
    }
   ],
   "source": [
    "# Cell 14: split and baseline\n",
    "X_train, X_test, y_train, y_test = train_test_split(X, y, test_size=0.2, random_state=42)\n",
    "\n",
    "lr_pipeline = Pipeline(steps=[\n",
    "    (\"preprocessor\", preprocessor),\n",
    "    (\"regressor\", LinearRegression())\n",
    "])\n",
    "\n",
    "lr_pipeline.fit(X_train, y_train)\n",
    "y_pred_lr = lr_pipeline.predict(X_test)\n",
    "\n",
    "def regression_report(y_true, y_pred):\n",
    "    mse = mean_squared_error(y_true, y_pred)\n",
    "    rmse = np.sqrt(mse)\n",
    "    mae = mean_absolute_error(y_true, y_pred)\n",
    "    r2 = r2_score(y_true, y_pred)\n",
    "    return {\"RMSE\": rmse, \"MAE\": mae, \"R2\": r2}\n",
    "\n",
    "print(\"Linear Regression performance:\")\n",
    "print(regression_report(y_test, y_pred_lr))\n"
   ]
  },
  {
   "cell_type": "markdown",
   "id": "3f4ccb8b-35b3-4562-882d-2c6b08f951fc",
   "metadata": {},
   "source": [
    "## Train stronger models\n",
    "Train Random Forest and Gradient Boosting, compare performance.\n"
   ]
  },
  {
   "cell_type": "code",
   "execution_count": 30,
   "id": "acad5a2f-a4f4-4ae7-b817-dd2051646cba",
   "metadata": {},
   "outputs": [
    {
     "name": "stdout",
     "output_type": "stream",
     "text": [
      "Random Forest: {'RMSE': np.float64(0.7575226399257007), 'MAE': 0.6296250000000019, 'R2': 0.9818195432831535}\n",
      "Gradient Boosting: {'RMSE': np.float64(0.726875613723803), 'MAE': 0.6142684383978981, 'R2': 0.9832608364557235}\n"
     ]
    }
   ],
   "source": [
    "# Cell 16: RandomForest and GradientBoosting pipelines\n",
    "rf_pipeline = Pipeline(steps=[\n",
    "    (\"preprocessor\", preprocessor),\n",
    "    (\"reg\", RandomForestRegressor(n_estimators=200, random_state=42, n_jobs=-1))\n",
    "])\n",
    "\n",
    "gbr_pipeline = Pipeline(steps=[\n",
    "    (\"preprocessor\", preprocessor),\n",
    "    (\"reg\", GradientBoostingRegressor(n_estimators=200, random_state=42))\n",
    "])\n",
    "\n",
    "# Fit models\n",
    "rf_pipeline.fit(X_train, y_train)\n",
    "gbr_pipeline.fit(X_train, y_train)\n",
    "\n",
    "# Predict\n",
    "y_pred_rf = rf_pipeline.predict(X_test)\n",
    "y_pred_gbr = gbr_pipeline.predict(X_test)\n",
    "\n",
    "print(\"Random Forest:\", regression_report(y_test, y_pred_rf))\n",
    "print(\"Gradient Boosting:\", regression_report(y_test, y_pred_gbr))\n"
   ]
  },
  {
   "cell_type": "markdown",
   "id": "9f2cfd68-fb38-4061-8d6f-beecda30d948",
   "metadata": {},
   "source": [
    "## Hyperparameter tuning (example)\n",
    "Grid search for Random Forest. This is a small grid — expand if needed.\n"
   ]
  },
  {
   "cell_type": "code",
   "execution_count": 31,
   "id": "878aeaf1-2aaa-4e7f-b826-5cd344974a0b",
   "metadata": {},
   "outputs": [
    {
     "name": "stdout",
     "output_type": "stream",
     "text": [
      "Fitting 3 folds for each of 6 candidates, totalling 18 fits\n",
      "Best params: {'reg__max_depth': None, 'reg__n_estimators': 300}\n",
      "Tuned RF performance: {'RMSE': np.float64(0.7406343902358283), 'MAE': 0.6140000000000011, 'R2': 0.9826211392674512}\n"
     ]
    }
   ],
   "source": [
    "# Cell 18: small grid search (can take time)\n",
    "param_grid = {\n",
    "    \"reg__n_estimators\": [100, 300],\n",
    "    \"reg__max_depth\": [None, 10, 20]\n",
    "}\n",
    "\n",
    "grid = GridSearchCV(rf_pipeline, param_grid, cv=3, scoring=\"neg_root_mean_squared_error\", n_jobs=-1, verbose=1)\n",
    "grid.fit(X_train, y_train)\n",
    "\n",
    "print(\"Best params:\", grid.best_params_)\n",
    "best_rf = grid.best_estimator_\n",
    "y_pred_best = best_rf.predict(X_test)\n",
    "print(\"Tuned RF performance:\", regression_report(y_test, y_pred_best))\n"
   ]
  },
  {
   "cell_type": "markdown",
   "id": "1b080dfb-e6f4-46c4-8154-d722fd7ffeec",
   "metadata": {},
   "source": [
    "## Evaluation plots\n",
    "Residuals and true vs predicted to inspect model errors.\n"
   ]
  },
  {
   "cell_type": "code",
   "execution_count": 32,
   "id": "2c7344bc-77b8-4d00-b191-51468ddcfd64",
   "metadata": {},
   "outputs": [
    {
     "data": {
      "image/png": "[encoded data removed]",
      "text/plain": [
       "<Figure size 600x500 with 1 Axes>"
      ]
     },
     "metadata": {},
     "output_type": "display_data"
    },
    {
     "data": {
      "image/png": "[encoded data removed]",
      "text/plain": [
       "<Figure size 600x400 with 1 Axes>"
      ]
     },
     "metadata": {},
     "output_type": "display_data"
    }
   ],
   "source": [
    "# Cell 20: residuals and true vs predicted for best model if available\n",
    "model_to_plot = best_rf if 'best_rf' in globals() else rf_pipeline\n",
    "y_pred = model_to_plot.predict(X_test)\n",
    "\n",
    "plt.figure(figsize=(6,5))\n",
    "plt.scatter(y_test, y_pred, alpha=0.6)\n",
    "plt.plot([y_test.min(), y_test.max()], [y_test.min(), y_test.max()], linestyle='--')\n",
    "plt.xlabel(\"True\")\n",
    "plt.ylabel(\"Predicted\")\n",
    "plt.title(\"True vs Predicted\")\n",
    "plt.show()\n",
    "\n",
    "residuals = y_test - y_pred\n",
    "plt.figure(figsize=(6,4))\n",
    "plt.hist(residuals, bins=40)\n",
    "plt.title(\"Residuals distribution\")\n",
    "plt.show()\n"
   ]
  },
  {
   "cell_type": "markdown",
   "id": "c0135eec-57bb-4212-bf75-d4a8978c6a87",
   "metadata": {},
   "source": [
    "## Feature importance\n",
    "Show feature importances from the Random Forest (after preprocessing).\n"
   ]
  },
  {
   "cell_type": "code",
   "execution_count": 33,
   "id": "6fc1c3dd-675b-41eb-9c69-b7d6ce532624",
   "metadata": {},
   "outputs": [
    {
     "data": {
      "text/plain": [
       "TV           0.625447\n",
       "Radio        0.361745\n",
       "Newspaper    0.012808\n",
       "dtype: float64"
      ]
     },
     "metadata": {},
     "output_type": "display_data"
    },
    {
     "data": {
      "image/png": "[encoded data removed]",
      "text/plain": [
       "<Figure size 1000x400 with 1 Axes>"
      ]
     },
     "metadata": {},
     "output_type": "display_data"
    }
   ],
   "source": [
    "# Cell 22: feature importances (works when using onehot encoding)\n",
    "# We need the transformed feature names\n",
    "pre = model_to_plot.named_steps['preprocessor']\n",
    "# numeric names\n",
    "numeric_features = num_cols\n",
    "# categorical: get categories from onehot encoder\n",
    "cat_names = []\n",
    "if cat_cols:\n",
    "    ohe = pre.named_transformers_['cat'].named_steps['onehot']\n",
    "    cat_features = pre.named_transformers_['cat'].named_steps['onehot'].get_feature_names_out(cat_cols)\n",
    "    cat_names = list(cat_features)\n",
    "\n",
    "feature_names = list(numeric_features) + cat_names\n",
    "\n",
    "# get underlying regressor feature importances\n",
    "reg = model_to_plot.named_steps.get('reg') or model_to_plot.named_steps.get('regressor')\n",
    "importances = reg.feature_importances_\n",
    "fi = pd.Series(importances, index=feature_names).sort_values(ascending=False).head(30)\n",
    "display(fi)\n",
    "fi.plot(kind='bar', figsize=(10,4))\n",
    "plt.title(\"Top feature importances\")\n",
    "plt.show()\n"
   ]
  },
  {
   "cell_type": "markdown",
   "id": "291dc9f7-f756-4b32-a2dd-5961d5b91f72",
   "metadata": {},
   "source": [
    "## Save model\n",
    "Save the final model with joblib for later use.\n"
   ]
  },
  {
   "cell_type": "code",
   "execution_count": 34,
   "id": "68d00746-7bfd-4743-bb54-9494fabd2d45",
   "metadata": {},
   "outputs": [
    {
     "name": "stdout",
     "output_type": "stream",
     "text": [
      "Saved final model to 'final_sales_model.joblib'\n"
     ]
    }
   ],
   "source": [
    "# Cell 24: save model\n",
    "import joblib\n",
    "final_model = model_to_plot\n",
    "joblib.dump(final_model, \"final_sales_model.joblib\")\n",
    "print(\"Saved final model to 'final_sales_model.joblib'\")\n"
   ]
  },
  {
   "cell_type": "markdown",
   "id": "4ac4e8bb-c6a0-447e-a8bb-2a79d7ce064d",
   "metadata": {},
   "source": [
    "## Conclusion & next steps\n",
    "- Compare models and choose based on RMSE/MAE and business needs.  \n",
    "- Next: tune more hyperparameters, add time-series features (if data is temporal), or try XGBoost/LightGBM.  \n",
    "- If the dataset is small, prefer simpler models or cross-validation.\n"
   ]
  },
  {
   "cell_type": "code",
   "execution_count": null,
   "id": "3d69a69c-7c18-42df-9406-7a774fa4f3c4",
   "metadata": {},
   "outputs": [],
   "source": []
  }
 ],
 "metadata": {
  "kernelspec": {
   "display_name": "Python 3 (ipykernel)",
   "language": "python",
   "name": "python3"
  },
  "language_info": {
   "codemirror_mode": {
    "name": "ipython",
    "version": 3
   },
   "file_extension": ".py",
   "mimetype": "text/x-python",
   "name": "python",
   "nbconvert_exporter": "python",
   "pygments_lexer": "ipython3",
   "version": "3.13.1"
  }
 },
 "nbformat": 4,
 "nbformat_minor": 5
}
